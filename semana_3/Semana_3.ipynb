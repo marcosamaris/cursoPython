{
 "cells": [
  {
   "cell_type": "code",
   "execution_count": 1,
   "metadata": {},
   "outputs": [
    {
     "data": {
      "text/plain": [
       "array(['AC', 'AC', 'AC', ..., 'SE', 'SE', 'SP'], dtype=object)"
      ]
     },
     "execution_count": 1,
     "metadata": {},
     "output_type": "execute_result"
    }
   ],
   "source": [
    "import pandas as pd\n",
    "\n",
    "dados = pd.read_csv('covid19-UFs.csv')\n",
    "\n",
    "dados['state'].values"
   ]
  },
  {
   "cell_type": "code",
   "execution_count": 2,
   "metadata": {
    "scrolled": true
   },
   "outputs": [
    {
     "data": {
      "text/plain": [
       "Text(0, 0.5, 'Largura')"
      ]
     },
     "execution_count": 2,
     "metadata": {},
     "output_type": "execute_result"
    },
    {
     "data": {
      "image/png": "[encoded data removed]",
      "text/plain": [
       "<Figure size 432x288 with 1 Axes>"
      ]
     },
     "metadata": {
      "needs_background": "light"
     },
     "output_type": "display_data"
    }
   ],
   "source": [
    "import matplotlib.pyplot as plt\n",
    "\n",
    "horinzotal = [0, 5, 10, 0, 0, 10, 10]\n",
    "vertical = [0, 1, 0, 0, -5, -5, 0]\n",
    "    \n",
    "# plt.scatter(horinzotal,vertical, marker='o', color='green')\n",
    "\n",
    "fig = plt.figure()\n",
    "plt.plot(horinzotal,vertical, marker='o', color='blue')\n",
    "fig.suptitle('Nossa Casa')\n",
    "plt.xlabel('Cumprimento')\n",
    "plt.ylabel('Largura')"
   ]
  },
  {
   "cell_type": "code",
   "execution_count": 7,
   "metadata": {},
   "outputs": [
    {
     "name": "stdout",
     "output_type": "stream",
     "text": [
      "(475, 760, 3)\n"
     ]
    }
   ],
   "source": [
    "import cv2\n",
    "\n",
    "import numpy as np\n",
    "\n",
    "img = cv2.imread('GettyImages.jpg') # abrindo imagem\n",
    "print(img.shape) # geometria da imagem\n",
    "\n",
    "# mudando a cor em uma determinada posição \n",
    "img[0:400,0:300,0] = 256/255   # COR AZUL \n",
    "img[0:400,0:300,1] = 256/255   # COR VERDE\n",
    "img[0:400,0:300,2] = 256/255    # COR VERMELHO\n",
    "\n",
    "\n",
    "# Display Image\n",
    "cv2.imshow('image',img)\n",
    "cv2.waitKey(0)\n",
    "cv2.destroyAllWindows()\n",
    "\n",
    "\n"
   ]
  },
  {
   "cell_type": "code",
   "execution_count": 9,
   "metadata": {},
   "outputs": [],
   "source": [
    "# VERSÃO 02 - NATÁLIA ARAÚJO\n",
    "# cria matriz tridimensional branca\n",
    "imgX = np.ones([600,600,3]) \n",
    "\n",
    "# copia para a variavel output\n",
    "output = imgX.copy()\n",
    "\n",
    "'''\n",
    "cria formas geometricas\n",
    "cv2.objeto(area, coordena_1, coordenada_2, cor, traço)\n",
    "''' \n",
    "\n",
    "#----------------------->> cria as linhas no formato de X <<-----------------------#\n",
    "cv2.line(output, (0,0), (600,600), (0,0,255), 1)\n",
    "cv2.line(output, (0,600), (600,0), (0,0,255), 1)\n",
    "\n",
    "#------------------------------>> cria o retangulo <<------------------------------#\n",
    "cv2.rectangle(output, (275,275), (325,325), (0,0,255), 1)\n",
    "\n",
    "for i in range(12):\n",
    "    #------------------------>> cria linhas verticais abaixo <<------------------------#\n",
    "    cv2.line(output, (300,300), (i*50,600), (0,0,255), 1)\n",
    "    \n",
    "    #----------------------->> cria linhas horizontais abaixo <<-----------------------#\n",
    "    cv2.line(output, (25+i*25, 575-i*25), (575-i*25, 575-i*25), (0,0,255), 1)\n",
    "    \n",
    "    \n",
    "    #----------------------->> cria linhas verticais acima <<--------------------------#\n",
    "    cv2.line(output, (300,300), (i*50,0), (0,0,255), 1)\n",
    "\n",
    "    #----------------------->> cria linhas horizontais acima <<------------------------#\n",
    "    cv2.line(output, (i*25, i*25), (600-i*25, i*25), (0,0,255), 1)\n",
    "    \n",
    "    \n",
    "    #--------------------->> cria linhas verticais lado esquerdo <<--------------------#\n",
    "    cv2.line(output, (i*25, i*25), (i*25, 600-i*25), (0,0,255), 1)\n",
    "    \n",
    "    #------------------->> cria linhas horizontais lado esquerdo <<--------------------#\n",
    "    cv2.line(output, (300, 300), (0, i*50), (0,0,255), 1)\n",
    "    \n",
    "    \n",
    "    #--------------------->> cria linhas verticais lado direito <<---------------------#\n",
    "    cv2.line(output, (600-i*25, 600-i*25), (600-i*25, i*25), (0,0,255), 1)\n",
    "    \n",
    "    #-------------------->> cria linhas horizontais lado direito <<--------------------#\n",
    "    cv2.line(output, (300, 300), (600, i*50), (0,0,255), 1)\n",
    "\n",
    "\n",
    "#--------------------->> cria o entorno da 'porta' em branco <<-------------------#\n",
    "output[276:325,276:325,0] = 255\n",
    "output[276:325,276:325,1] = 255\n",
    "output[276:325,276:325,2] = 255\n",
    "\n",
    "#-------------------------->> cria a 'porta' em preto <<--------------------------#\n",
    "output[290:324,286:312,0] = 0\n",
    "output[290:324,286:312,1] = 0\n",
    "output[290:324,286:312,2] = 0\n",
    "\n",
    "#-------------------------->> cria a 'janela' em branco <<--------------------------#\n",
    "output[235:300,102:150,0] = 255\n",
    "output[235:300,102:150,1] = 255\n",
    "output[235:300,102:150,2] = 255\n",
    "\n",
    "#--------------------->> cria o entorno da 'janela' em preto <<-------------------#\n",
    "#vertical\n",
    "cv2.line(output, (150, 250), (150, 300), (0,0,0), 5)\n",
    "cv2.line(output, (100, 225), (100, 300), (0,0,0), 5)\n",
    "#horizontal\n",
    "cv2.line(output, (150, 250), (100, 225), (0,0,0), 5)\n",
    "cv2.line(output, (150, 300), (100, 300), (0,0,0), 5)\n",
    "\n",
    "#------------------------------>> cria a marcaneta <<-----------------------------#\n",
    "cv2.circle(output, (305,310), 3, (255,255,255), -1)\n",
    "\n",
    "# Display Image\n",
    "cv2.imshow('Corredor_da_Taia',output)\n",
    "cv2.waitKey(0)\n",
    "cv2.destroyAllWindows()"
   ]
  },
  {
   "cell_type": "code",
   "execution_count": null,
   "metadata": {},
   "outputs": [],
   "source": []
  }
 ],
 "metadata": {
  "kernelspec": {
   "display_name": "Python 3",
   "language": "python",
   "name": "python3"
  },
  "language_info": {
   "codemirror_mode": {
    "name": "ipython",
    "version": 3
   },
   "file_extension": ".py",
   "mimetype": "text/x-python",
   "name": "python",
   "nbconvert_exporter": "python",
   "pygments_lexer": "ipython3",
   "version": "3.7.3"
  }
 },
 "nbformat": 4,
 "nbformat_minor": 4
}
