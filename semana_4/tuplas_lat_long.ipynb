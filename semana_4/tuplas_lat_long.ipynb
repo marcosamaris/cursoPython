{
 "cells": [
  {
   "cell_type": "code",
   "execution_count": 21,
   "metadata": {},
   "outputs": [
    {
     "name": "stdout",
     "output_type": "stream",
     "text": [
      "{'x': -50.5986024, 'y': -5.0432498, 'addr:street': 'Rua 7 de Setembro', 'addr:state': 'Pará', 'addr:country': 'Brasil'}\n",
      "-50.5986024\n",
      "-5.0432498\n"
     ]
    }
   ],
   "source": [
    "\n",
    "\n"
   ]
  },
  {
   "cell_type": "code",
   "execution_count": 38,
   "metadata": {},
   "outputs": [
    {
     "name": "stdout",
     "output_type": "stream",
     "text": [
      "9\n"
     ]
    }
   ],
   "source": [
    "import folium\n",
    "import geocoder\n",
    "\n",
    "\n",
    "vetor_enderecos = ['Vila Permanente, Tucuruí, Pará', 'Lapa, Rio de Janeiro', 'Lapa, São Paulo', \n",
    "                   'canã dos carajás, Pará', 'Peixe Boi, Pará', 'Breves, Pará', 'Recife, Pernambuco',\n",
    "                   'Salbador, Bahia', 'Rio Branco, Acre']\n",
    "\n",
    "print(len(vetor_enderecos))\n",
    "\n",
    "# Make an empty map\n",
    "m = folium.Map(tiles=\"OpenStreetMap\", zoom_start=20)\n",
    "\n",
    "for enderecos in vetor_enderecos:\n",
    "    g = geocoder.osm(enderecos)\n",
    "    folium.Marker([g.y, g.x]).add_to(m)\n",
    "\n",
    "m.save('tucurui.html')"
   ]
  },
  {
   "cell_type": "code",
   "execution_count": null,
   "metadata": {},
   "outputs": [],
   "source": []
  }
 ],
 "metadata": {
  "kernelspec": {
   "display_name": "Python 3",
   "language": "python",
   "name": "python3"
  },
  "language_info": {
   "codemirror_mode": {
    "name": "ipython",
    "version": 3
   },
   "file_extension": ".py",
   "mimetype": "text/x-python",
   "name": "python",
   "nbconvert_exporter": "python",
   "pygments_lexer": "ipython3",
   "version": "3.7.3"
  }
 },
 "nbformat": 4,
 "nbformat_minor": 4
}
